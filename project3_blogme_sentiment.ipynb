{
 "cells": [
  {
   "cell_type": "markdown",
   "id": "2cd6044f-d17c-470a-97ad-c776c8fd9885",
   "metadata": {},
   "source": [
    "https://colab.research.google.com/drive/1MQnjYWk32goaI7lhvvl-gHvmx5OyopRV#scrollTo=eea31aad-99c3-48ca-83ed-028ab28c7fac"
   ]
  },
  {
   "cell_type": "code",
   "execution_count": 1,
   "id": "8cd9c1cf-514c-45bc-961f-9af039dd9fe5",
   "metadata": {
    "id": "8cd9c1cf-514c-45bc-961f-9af039dd9fe5",
    "tags": []
   },
   "outputs": [],
   "source": [
    "import pandas as pd\n",
    "import numpy as np\n",
    "import matplotlib.pyplot as plt"
   ]
  },
  {
   "cell_type": "code",
   "execution_count": 2,
   "id": "d656a754-cd9c-4d72-a96f-2be95f588e48",
   "metadata": {
    "id": "d656a754-cd9c-4d72-a96f-2be95f588e48",
    "tags": []
   },
   "outputs": [],
   "source": [
    "data = pd.read_excel('project3_data_articles.xlsx')"
   ]
  },
  {
   "cell_type": "code",
   "execution_count": 3,
   "id": "f0df9348-9764-4200-a0f6-382efa3e1c66",
   "metadata": {
    "colab": {
     "base_uri": "https://localhost:8080/",
     "height": 315
    },
    "id": "f0df9348-9764-4200-a0f6-382efa3e1c66",
    "outputId": "bfb0e351-fedb-4857-e89e-c09592663576",
    "tags": []
   },
   "outputs": [
    {
     "data": {
      "text/html": [
       "\n",
       "  <div id=\"df-179bb513-cba0-49b1-8e95-be150f3d8d1f\">\n",
       "    <div class=\"colab-df-container\">\n",
       "      <div>\n",
       "<style scoped>\n",
       "    .dataframe tbody tr th:only-of-type {\n",
       "        vertical-align: middle;\n",
       "    }\n",
       "\n",
       "    .dataframe tbody tr th {\n",
       "        vertical-align: top;\n",
       "    }\n",
       "\n",
       "    .dataframe thead th {\n",
       "        text-align: right;\n",
       "    }\n",
       "</style>\n",
       "<table border=\"1\" class=\"dataframe\">\n",
       "  <thead>\n",
       "    <tr style=\"text-align: right;\">\n",
       "      <th></th>\n",
       "      <th>article_id</th>\n",
       "      <th>source_id</th>\n",
       "      <th>source_name</th>\n",
       "      <th>author</th>\n",
       "      <th>title</th>\n",
       "      <th>description</th>\n",
       "      <th>url</th>\n",
       "      <th>url_to_image</th>\n",
       "      <th>published_at</th>\n",
       "      <th>content</th>\n",
       "      <th>top_article</th>\n",
       "      <th>engagement_reaction_count</th>\n",
       "      <th>engagement_comment_count</th>\n",
       "      <th>engagement_share_count</th>\n",
       "      <th>engagement_comment_plugin_count</th>\n",
       "    </tr>\n",
       "  </thead>\n",
       "  <tbody>\n",
       "    <tr>\n",
       "      <th>0</th>\n",
       "      <td>0</td>\n",
       "      <td>reuters</td>\n",
       "      <td>Reuters</td>\n",
       "      <td>Reuters Editorial</td>\n",
       "      <td>NTSB says Autopilot engaged in 2018 California...</td>\n",
       "      <td>The National Transportation Safety Board said ...</td>\n",
       "      <td>https://www.reuters.com/article/us-tesla-crash...</td>\n",
       "      <td>https://s4.reutersmedia.net/resources/r/?m=02&amp;...</td>\n",
       "      <td>2019-09-03T16:22:20Z</td>\n",
       "      <td>WASHINGTON (Reuters) - The National Transporta...</td>\n",
       "      <td>0.0</td>\n",
       "      <td>0.0</td>\n",
       "      <td>0.0</td>\n",
       "      <td>2528.0</td>\n",
       "      <td>0.0</td>\n",
       "    </tr>\n",
       "    <tr>\n",
       "      <th>1</th>\n",
       "      <td>1</td>\n",
       "      <td>the-irish-times</td>\n",
       "      <td>The Irish Times</td>\n",
       "      <td>Eoin Burke-Kennedy</td>\n",
       "      <td>Unemployment falls to post-crash low of 5.2%</td>\n",
       "      <td>Latest monthly figures reflect continued growt...</td>\n",
       "      <td>https://www.irishtimes.com/business/economy/un...</td>\n",
       "      <td>https://www.irishtimes.com/image-creator/?id=1...</td>\n",
       "      <td>2019-09-03T10:32:28Z</td>\n",
       "      <td>The States jobless rate fell to 5.2 per cent l...</td>\n",
       "      <td>0.0</td>\n",
       "      <td>6.0</td>\n",
       "      <td>10.0</td>\n",
       "      <td>2.0</td>\n",
       "      <td>0.0</td>\n",
       "    </tr>\n",
       "  </tbody>\n",
       "</table>\n",
       "</div>\n",
       "      <button class=\"colab-df-convert\" onclick=\"convertToInteractive('df-179bb513-cba0-49b1-8e95-be150f3d8d1f')\"\n",
       "              title=\"Convert this dataframe to an interactive table.\"\n",
       "              style=\"display:none;\">\n",
       "        \n",
       "  <svg xmlns=\"http://www.w3.org/2000/svg\" height=\"24px\"viewBox=\"0 0 24 24\"\n",
       "       width=\"24px\">\n",
       "    <path d=\"M0 0h24v24H0V0z\" fill=\"none\"/>\n",
       "    <path d=\"M18.56 5.44l.94 2.06.94-2.06 2.06-.94-2.06-.94-.94-2.06-.94 2.06-2.06.94zm-11 1L8.5 8.5l.94-2.06 2.06-.94-2.06-.94L8.5 2.5l-.94 2.06-2.06.94zm10 10l.94 2.06.94-2.06 2.06-.94-2.06-.94-.94-2.06-.94 2.06-2.06.94z\"/><path d=\"M17.41 7.96l-1.37-1.37c-.4-.4-.92-.59-1.43-.59-.52 0-1.04.2-1.43.59L10.3 9.45l-7.72 7.72c-.78.78-.78 2.05 0 2.83L4 21.41c.39.39.9.59 1.41.59.51 0 1.02-.2 1.41-.59l7.78-7.78 2.81-2.81c.8-.78.8-2.07 0-2.86zM5.41 20L4 18.59l7.72-7.72 1.47 1.35L5.41 20z\"/>\n",
       "  </svg>\n",
       "      </button>\n",
       "      \n",
       "  <style>\n",
       "    .colab-df-container {\n",
       "      display:flex;\n",
       "      flex-wrap:wrap;\n",
       "      gap: 12px;\n",
       "    }\n",
       "\n",
       "    .colab-df-convert {\n",
       "      background-color: #E8F0FE;\n",
       "      border: none;\n",
       "      border-radius: 50%;\n",
       "      cursor: pointer;\n",
       "      display: none;\n",
       "      fill: #1967D2;\n",
       "      height: 32px;\n",
       "      padding: 0 0 0 0;\n",
       "      width: 32px;\n",
       "    }\n",
       "\n",
       "    .colab-df-convert:hover {\n",
       "      background-color: #E2EBFA;\n",
       "      box-shadow: 0px 1px 2px rgba(60, 64, 67, 0.3), 0px 1px 3px 1px rgba(60, 64, 67, 0.15);\n",
       "      fill: #174EA6;\n",
       "    }\n",
       "\n",
       "    [theme=dark] .colab-df-convert {\n",
       "      background-color: #3B4455;\n",
       "      fill: #D2E3FC;\n",
       "    }\n",
       "\n",
       "    [theme=dark] .colab-df-convert:hover {\n",
       "      background-color: #434B5C;\n",
       "      box-shadow: 0px 1px 3px 1px rgba(0, 0, 0, 0.15);\n",
       "      filter: drop-shadow(0px 1px 2px rgba(0, 0, 0, 0.3));\n",
       "      fill: #FFFFFF;\n",
       "    }\n",
       "  </style>\n",
       "\n",
       "      <script>\n",
       "        const buttonEl =\n",
       "          document.querySelector('#df-179bb513-cba0-49b1-8e95-be150f3d8d1f button.colab-df-convert');\n",
       "        buttonEl.style.display =\n",
       "          google.colab.kernel.accessAllowed ? 'block' : 'none';\n",
       "\n",
       "        async function convertToInteractive(key) {\n",
       "          const element = document.querySelector('#df-179bb513-cba0-49b1-8e95-be150f3d8d1f');\n",
       "          const dataTable =\n",
       "            await google.colab.kernel.invokeFunction('convertToInteractive',\n",
       "                                                     [key], {});\n",
       "          if (!dataTable) return;\n",
       "\n",
       "          const docLinkHtml = 'Like what you see? Visit the ' +\n",
       "            '<a target=\"_blank\" href=https://colab.research.google.com/notebooks/data_table.ipynb>data table notebook</a>'\n",
       "            + ' to learn more about interactive tables.';\n",
       "          element.innerHTML = '';\n",
       "          dataTable['output_type'] = 'display_data';\n",
       "          await google.colab.output.renderOutput(dataTable, element);\n",
       "          const docLink = document.createElement('div');\n",
       "          docLink.innerHTML = docLinkHtml;\n",
       "          element.appendChild(docLink);\n",
       "        }\n",
       "      </script>\n",
       "    </div>\n",
       "  </div>\n",
       "  "
      ],
      "text/plain": [
       "   article_id        source_id      source_name              author  \\\n",
       "0           0          reuters          Reuters   Reuters Editorial   \n",
       "1           1  the-irish-times  The Irish Times  Eoin Burke-Kennedy   \n",
       "\n",
       "                                               title  \\\n",
       "0  NTSB says Autopilot engaged in 2018 California...   \n",
       "1       Unemployment falls to post-crash low of 5.2%   \n",
       "\n",
       "                                         description  \\\n",
       "0  The National Transportation Safety Board said ...   \n",
       "1  Latest monthly figures reflect continued growt...   \n",
       "\n",
       "                                                 url  \\\n",
       "0  https://www.reuters.com/article/us-tesla-crash...   \n",
       "1  https://www.irishtimes.com/business/economy/un...   \n",
       "\n",
       "                                        url_to_image          published_at  \\\n",
       "0  https://s4.reutersmedia.net/resources/r/?m=02&...  2019-09-03T16:22:20Z   \n",
       "1  https://www.irishtimes.com/image-creator/?id=1...  2019-09-03T10:32:28Z   \n",
       "\n",
       "                                             content  top_article  \\\n",
       "0  WASHINGTON (Reuters) - The National Transporta...          0.0   \n",
       "1  The States jobless rate fell to 5.2 per cent l...          0.0   \n",
       "\n",
       "   engagement_reaction_count  engagement_comment_count  \\\n",
       "0                        0.0                       0.0   \n",
       "1                        6.0                      10.0   \n",
       "\n",
       "   engagement_share_count  engagement_comment_plugin_count  \n",
       "0                  2528.0                              0.0  \n",
       "1                     2.0                              0.0  "
      ]
     },
     "execution_count": 3,
     "metadata": {},
     "output_type": "execute_result"
    }
   ],
   "source": [
    "data.head(2)"
   ]
  },
  {
   "cell_type": "code",
   "execution_count": 4,
   "id": "08529cb5-bfdb-4e98-b7e8-d35194b5d28d",
   "metadata": {
    "colab": {
     "base_uri": "https://localhost:8080/"
    },
    "id": "08529cb5-bfdb-4e98-b7e8-d35194b5d28d",
    "outputId": "09c03307-e3af-4e4c-b671-a955929fa041",
    "tags": []
   },
   "outputs": [
    {
     "name": "stdout",
     "output_type": "stream",
     "text": [
      "<class 'pandas.core.frame.DataFrame'>\n",
      "RangeIndex: 10437 entries, 0 to 10436\n",
      "Data columns (total 15 columns):\n",
      " #   Column                           Non-Null Count  Dtype  \n",
      "---  ------                           --------------  -----  \n",
      " 0   article_id                       10437 non-null  int64  \n",
      " 1   source_id                        10437 non-null  object \n",
      " 2   source_name                      10437 non-null  object \n",
      " 3   author                           9417 non-null   object \n",
      " 4   title                            10435 non-null  object \n",
      " 5   description                      10413 non-null  object \n",
      " 6   url                              10436 non-null  object \n",
      " 7   url_to_image                     9781 non-null   object \n",
      " 8   published_at                     10436 non-null  object \n",
      " 9   content                          9145 non-null   object \n",
      " 10  top_article                      10435 non-null  float64\n",
      " 11  engagement_reaction_count        10319 non-null  float64\n",
      " 12  engagement_comment_count         10319 non-null  float64\n",
      " 13  engagement_share_count           10319 non-null  float64\n",
      " 14  engagement_comment_plugin_count  10319 non-null  float64\n",
      "dtypes: float64(5), int64(1), object(9)\n",
      "memory usage: 1.2+ MB\n"
     ]
    }
   ],
   "source": [
    "data.info()"
   ]
  },
  {
   "cell_type": "code",
   "execution_count": 5,
   "id": "f249ad0f-584a-4479-9b30-3885fc1fa304",
   "metadata": {
    "colab": {
     "base_uri": "https://localhost:8080/",
     "height": 574
    },
    "id": "f249ad0f-584a-4479-9b30-3885fc1fa304",
    "outputId": "fbfb874d-dc50-44af-d280-b61483a6045a",
    "tags": []
   },
   "outputs": [
    {
     "data": {
      "image/png": "[encoded data removed]",
      "text/plain": [
       "<Figure size 640x480 with 1 Axes>"
      ]
     },
     "metadata": {},
     "output_type": "display_data"
    }
   ],
   "source": [
    "data['source_name'].value_counts().sort_values(ascending=True).plot(kind=\"bar\", color='green', width=0.3)\n",
    "plt.show()"
   ]
  },
  {
   "cell_type": "code",
   "execution_count": 6,
   "id": "9d9bf0a3-e9a1-4ffd-ab3a-988efee98882",
   "metadata": {
    "colab": {
     "base_uri": "https://localhost:8080/"
    },
    "id": "9d9bf0a3-e9a1-4ffd-ab3a-988efee98882",
    "outputId": "2b576b08-6f6e-44bd-82a0-25b70e47d5b7",
    "tags": []
   },
   "outputs": [
    {
     "data": {
      "text/plain": [
       "source_name\n",
       "460.0                            0.0\n",
       "ESPN                             0.0\n",
       "Reuters                      16963.0\n",
       "The Irish Times              26838.0\n",
       "The Wall Street Journal      84124.0\n",
       "Newsweek                     93167.0\n",
       "Al Jazeera English          140410.0\n",
       "Business Insider            216545.0\n",
       "ABC News                    343779.0\n",
       "CBS News                    459741.0\n",
       "BBC News                    545396.0\n",
       "The New York Times          790449.0\n",
       "CNN                        1218206.0\n",
       "Name: engagement_reaction_count, dtype: float64"
      ]
     },
     "execution_count": 6,
     "metadata": {},
     "output_type": "execute_result"
    }
   ],
   "source": [
    "data.groupby(['source_name'])['engagement_reaction_count'].sum().sort_values(ascending=True)"
   ]
  },
  {
   "cell_type": "code",
   "execution_count": 7,
   "id": "a6abf1b7-c1fe-4393-b91f-e9ed6e6bd429",
   "metadata": {
    "id": "a6abf1b7-c1fe-4393-b91f-e9ed6e6bd429",
    "tags": []
   },
   "outputs": [],
   "source": [
    "data = data.drop('engagement_comment_plugin_count', axis=1)"
   ]
  },
  {
   "cell_type": "code",
   "execution_count": 8,
   "id": "98eb8537-72f7-4dff-af3f-2a198c965a71",
   "metadata": {
    "id": "98eb8537-72f7-4dff-af3f-2a198c965a71",
    "tags": []
   },
   "outputs": [],
   "source": [
    "# creating keyword count\n",
    "def keywordflag(heading, keyword):\n",
    "    try:\n",
    "        if keyword in heading:\n",
    "           flag = 1\n",
    "        else:\n",
    "           flag = 0\n",
    "    except:\n",
    "        flag = 0\n",
    "    return flag"
   ]
  },
  {
   "cell_type": "code",
   "execution_count": 9,
   "id": "59fa37a5-3238-4178-a731-36ae6ac94e34",
   "metadata": {
    "colab": {
     "base_uri": "https://localhost:8080/"
    },
    "id": "59fa37a5-3238-4178-a731-36ae6ac94e34",
    "outputId": "a04efacc-0b7d-4122-fb1b-5462d5c3bf45",
    "tags": []
   },
   "outputs": [
    {
     "data": {
      "text/plain": [
       "0        1\n",
       "1        1\n",
       "2        0\n",
       "3        0\n",
       "4        0\n",
       "        ..\n",
       "10432    0\n",
       "10433    0\n",
       "10434    0\n",
       "10435    0\n",
       "10436    0\n",
       "Name: title, Length: 10437, dtype: int64"
      ]
     },
     "execution_count": 9,
     "metadata": {},
     "output_type": "execute_result"
    }
   ],
   "source": [
    "data['title'].apply(lambda x:keywordflag(x,'crash'))"
   ]
  },
  {
   "cell_type": "code",
   "execution_count": 10,
   "id": "76acfd7c-438d-4266-9fd1-7b6c785bfe42",
   "metadata": {
    "id": "76acfd7c-438d-4266-9fd1-7b6c785bfe42",
    "tags": []
   },
   "outputs": [],
   "source": [
    "data['keywordflag'] = data['title'].apply(lambda x:keywordflag(x,'murder'))"
   ]
  },
  {
   "cell_type": "code",
   "execution_count": 11,
   "id": "c4d005ea-a571-435c-a87c-b215b68c3ec2",
   "metadata": {
    "colab": {
     "base_uri": "https://localhost:8080/"
    },
    "collapsed": true,
    "id": "c4d005ea-a571-435c-a87c-b215b68c3ec2",
    "jupyter": {
     "outputs_hidden": true
    },
    "outputId": "bc90bddb-2c5d-44c2-e66b-f65d6e7d162a",
    "tags": []
   },
   "outputs": [
    {
     "data": {
      "text/plain": [
       "0        0\n",
       "1        0\n",
       "2        0\n",
       "3        0\n",
       "4        0\n",
       "        ..\n",
       "10432    0\n",
       "10433    0\n",
       "10434    0\n",
       "10435    0\n",
       "10436    0\n",
       "Name: keywordflag, Length: 10437, dtype: int64"
      ]
     },
     "execution_count": 11,
     "metadata": {},
     "output_type": "execute_result"
    }
   ],
   "source": [
    "data['keywordflag'] "
   ]
  },
  {
   "cell_type": "code",
   "execution_count": 12,
   "id": "d38b7166-148f-4312-b29f-6d659d0a1321",
   "metadata": {
    "id": "d38b7166-148f-4312-b29f-6d659d0a1321",
    "tags": []
   },
   "outputs": [],
   "source": [
    "from vaderSentiment.vaderSentiment import SentimentIntensityAnalyzer"
   ]
  },
  {
   "cell_type": "code",
   "execution_count": 13,
   "id": "24463c54-2c6f-44f4-886a-6681e8c10d63",
   "metadata": {
    "id": "24463c54-2c6f-44f4-886a-6681e8c10d63"
   },
   "outputs": [],
   "source": [
    "sent_int = SentimentIntensityAnalyzer()"
   ]
  },
  {
   "cell_type": "code",
   "execution_count": 14,
   "id": "53aedf03-5c31-47de-aa50-e82ef06e4d43",
   "metadata": {
    "colab": {
     "base_uri": "https://localhost:8080/",
     "height": 35
    },
    "id": "53aedf03-5c31-47de-aa50-e82ef06e4d43",
    "outputId": "4946e3cb-0c5b-4481-ea0f-9cd4be91deb5"
   },
   "outputs": [
    {
     "data": {
      "application/vnd.google.colaboratory.intrinsic+json": {
       "type": "string"
      },
      "text/plain": [
       "'Dreamy, confident shows mark London Fashion Week'"
      ]
     },
     "execution_count": 14,
     "metadata": {},
     "output_type": "execute_result"
    }
   ],
   "source": [
    "text = data['title'][5988]\n",
    "text\n"
   ]
  },
  {
   "cell_type": "code",
   "execution_count": 15,
   "id": "bzwX70oToVUE",
   "metadata": {
    "id": "bzwX70oToVUE"
   },
   "outputs": [],
   "source": [
    "sent = sent_int.polarity_scores(text)"
   ]
  },
  {
   "cell_type": "code",
   "execution_count": 16,
   "id": "75550563-e912-49c6-bb99-cfcfe319031b",
   "metadata": {
    "colab": {
     "base_uri": "https://localhost:8080/"
    },
    "id": "75550563-e912-49c6-bb99-cfcfe319031b",
    "outputId": "823716f1-8fa0-412a-8364-4d9bde4e89c7"
   },
   "outputs": [
    {
     "name": "stdout",
     "output_type": "stream",
     "text": [
      "0.0 0.348 0.652\n"
     ]
    }
   ],
   "source": [
    "#extract neg, pos, neu into spesific column\n",
    "neg = sent['neg']\n",
    "pos = sent['pos']\n",
    "neu = sent['neu']\n",
    "print(neg,pos,neu)"
   ]
  },
  {
   "cell_type": "code",
   "execution_count": 17,
   "id": "8n3Y7oOGo158",
   "metadata": {
    "id": "8n3Y7oOGo158"
   },
   "outputs": [],
   "source": [
    "def get_sentiment(text,sent_int): \n",
    "  try:\n",
    "    sent = sent_int.polarity_scores(text)\n",
    "    return sent['neg'], sent['pos'], sent['neu']\n",
    "  except:\n",
    "    return 0, 0, 0\n",
    "\n",
    "sent_int = SentimentIntensityAnalyzer()\n",
    "title_sentiment = data['title'].apply(lambda x: get_sentiment(x,sent_int))\n",
    "data['title_neg_sentiment'] = title_sentiment.apply(lambda x: x[0])\n",
    "data['title_pos_sentiment'] = title_sentiment.apply(lambda x: x[1])\n",
    "data['title_neu_sentiment'] = title_sentiment.apply(lambda x: x[2])\n"
   ]
  },
  {
   "cell_type": "code",
   "execution_count": 18,
   "id": "eea31aad-99c3-48ca-83ed-028ab28c7fac",
   "metadata": {
    "id": "eea31aad-99c3-48ca-83ed-028ab28c7fac"
   },
   "outputs": [],
   "source": [
    "#export to excel\n",
    "data.to_excel('project3_clean_data.xlsx', sheet_name='blogmedata', index=False)"
   ]
  }
 ],
 "metadata": {
  "colab": {
   "provenance": []
  },
  "kernelspec": {
   "display_name": "Python 3 (ipykernel)",
   "language": "python",
   "name": "python3"
  },
  "language_info": {
   "codemirror_mode": {
    "name": "ipython",
    "version": 3
   },
   "file_extension": ".py",
   "mimetype": "text/x-python",
   "name": "python",
   "nbconvert_exporter": "python",
   "pygments_lexer": "ipython3",
   "version": "3.9.12"
  }
 },
 "nbformat": 4,
 "nbformat_minor": 5
}
